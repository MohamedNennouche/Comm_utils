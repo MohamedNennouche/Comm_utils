{
 "cells": [
  {
   "cell_type": "code",
   "execution_count": 18,
   "metadata": {},
   "outputs": [],
   "source": [
    "import numpy as np\n",
    "import pandas as pd \n",
    "import matplotlib.pyplot as plt \n",
    "from commpy.utilities import dec2bitarray, bitarray2dec\n",
    "from commpy.modulation import QAMModem"
   ]
  },
  {
   "cell_type": "code",
   "execution_count": 35,
   "metadata": {},
   "outputs": [
    {
     "data": {
      "text/plain": [
       "array([ 3.-1.j, -1.-3.j, -1.-3.j, -3.-1.j,  1.-1.j,  3.-3.j, -3.-3.j,\n",
       "        3.-1.j, -3.-3.j,  3.+1.j, -1.+1.j,  1.+1.j, -3.-1.j,  3.-1.j,\n",
       "       -1.-1.j,  3.+3.j, -1.+1.j,  3.+3.j, -3.-1.j, -3.-3.j, -3.-3.j,\n",
       "        3.-3.j, -1.+3.j, -3.-1.j, -1.+1.j,  3.+3.j, -1.+1.j,  3.+1.j,\n",
       "       -3.-3.j,  1.+3.j, -1.+1.j,  3.-3.j,  1.+3.j,  1.+3.j,  1.-1.j,\n",
       "       -1.+3.j, -3.-3.j,  1.-3.j, -1.-3.j,  1.+3.j,  1.+3.j, -1.-1.j,\n",
       "        3.+1.j, -3.+3.j, -1.-3.j, -3.+1.j, -1.+1.j, -1.-3.j,  1.-3.j,\n",
       "       -1.-3.j, -1.+3.j, -1.+3.j,  1.+1.j,  1.-1.j, -1.-1.j, -1.-3.j,\n",
       "       -1.-1.j,  1.-1.j,  3.-1.j, -3.-1.j, -3.+1.j,  1.+1.j, -3.+3.j,\n",
       "        3.-1.j])"
      ]
     },
     "execution_count": 35,
     "metadata": {},
     "output_type": "execute_result"
    }
   ],
   "source": [
    "bit_array = np.random.randint(low=0, high=2, size=256)\n",
    "qam16 = QAMModem(m=16)\n",
    "bit_modulated = qam16.modulate(bit_array)\n",
    "bit_modulated"
   ]
  },
  {
   "cell_type": "code",
   "execution_count": 37,
   "metadata": {},
   "outputs": [
    {
     "data": {
      "text/plain": [
       "array([ True,  True,  True,  True,  True,  True,  True,  True,  True,\n",
       "        True,  True,  True,  True,  True,  True,  True,  True,  True,\n",
       "        True,  True,  True,  True,  True,  True,  True,  True,  True,\n",
       "        True,  True,  True,  True,  True,  True,  True,  True,  True,\n",
       "        True,  True,  True,  True,  True,  True,  True,  True,  True,\n",
       "        True,  True,  True,  True,  True,  True,  True,  True,  True,\n",
       "        True,  True,  True,  True,  True,  True,  True,  True,  True,\n",
       "        True,  True,  True,  True,  True,  True,  True,  True,  True,\n",
       "        True,  True,  True,  True,  True,  True,  True,  True,  True,\n",
       "        True,  True,  True,  True,  True,  True,  True,  True,  True,\n",
       "        True,  True,  True,  True,  True,  True,  True,  True,  True,\n",
       "        True,  True,  True,  True,  True,  True,  True,  True,  True,\n",
       "        True,  True,  True,  True,  True,  True,  True,  True,  True,\n",
       "        True,  True,  True,  True,  True,  True,  True,  True,  True,\n",
       "        True,  True,  True,  True,  True,  True,  True,  True,  True,\n",
       "        True,  True,  True,  True,  True,  True,  True,  True,  True,\n",
       "        True,  True,  True,  True,  True,  True,  True,  True,  True,\n",
       "        True,  True,  True,  True,  True,  True,  True,  True,  True,\n",
       "        True,  True,  True,  True,  True,  True,  True,  True,  True,\n",
       "        True,  True,  True,  True,  True,  True,  True,  True,  True,\n",
       "        True,  True,  True,  True,  True,  True,  True,  True,  True,\n",
       "        True,  True,  True,  True,  True,  True,  True,  True,  True,\n",
       "        True,  True,  True,  True,  True,  True,  True,  True,  True,\n",
       "        True,  True,  True,  True,  True,  True,  True,  True,  True,\n",
       "        True,  True,  True,  True,  True,  True,  True,  True,  True,\n",
       "        True,  True,  True,  True,  True,  True,  True,  True,  True,\n",
       "        True,  True,  True,  True,  True,  True,  True,  True,  True,\n",
       "        True,  True,  True,  True,  True,  True,  True,  True,  True,\n",
       "        True,  True,  True,  True])"
      ]
     },
     "execution_count": 37,
     "metadata": {},
     "output_type": "execute_result"
    }
   ],
   "source": [
    "qam16.demodulate(bit_modulated, demod_type='hard') == bit_array"
   ]
  }
 ],
 "metadata": {
  "kernelspec": {
   "display_name": "Python 3",
   "language": "python",
   "name": "python3"
  },
  "language_info": {
   "codemirror_mode": {
    "name": "ipython",
    "version": 3
   },
   "file_extension": ".py",
   "mimetype": "text/x-python",
   "name": "python",
   "nbconvert_exporter": "python",
   "pygments_lexer": "ipython3",
   "version": "3.9.13"
  }
 },
 "nbformat": 4,
 "nbformat_minor": 2
}
